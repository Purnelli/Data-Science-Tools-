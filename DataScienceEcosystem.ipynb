{
 "cells": [
  {
   "cell_type": "markdown",
   "id": "277f3bfe",
   "metadata": {},
   "source": [
    "# Data Science Tools and Ecosystem"
   ]
  },
  {
   "cell_type": "markdown",
   "id": "51574f79",
   "metadata": {},
   "source": [
    "This Jupyter notebook is an introductory summary of data science tools and the ecosystem."
   ]
  },
  {
   "cell_type": "markdown",
   "id": "6ad487cc",
   "metadata": {},
   "source": [
    "**Objectives:**\n",
    "* List some of the popular programming languages used by data scientists.\n",
    "* List some commonly used libraries used by data scientists.\n",
    "* Demonstrate use of the Jupyter notebook 'Markdown' function.\n",
    "* List 3 open source development environment tools used by data scientists.\n"
   ]
  },
  {
   "cell_type": "markdown",
   "id": "bc521d73",
   "metadata": {},
   "source": [
    "Some of the popular programming languages used by data scientists are:\n",
    "\n",
    "1. Python\n",
    "2. R\n",
    "3. SQL\n",
    "4. Java\n",
    "5. Julia\n",
    "6. SAS"
   ]
  },
  {
   "cell_type": "markdown",
   "id": "23b7d6f3",
   "metadata": {},
   "source": [
    "Some commonly used Python and R libraries used by data scientists are:\n",
    "\n",
    "1. NumPy (Python)\n",
    "2. SciPy (Python)\n",
    "3. Pandas (Python)\n",
    "4. Matplotlib (Python)\n",
    "5. dplyr (R)\n",
    "6. tidyr (R)\n",
    "7. readr (R)\n",
    "8. ggplot2 (R)"
   ]
  },
  {
   "cell_type": "markdown",
   "id": "2c0086de",
   "metadata": {},
   "source": [
    "| Data Science Tools |\n",
    "|  ------------------|\n",
    "| Apache Spark |\n",
    "| Tensorflow   |\n",
    "| Apacha Hadoop|"
   ]
  },
  {
   "cell_type": "markdown",
   "id": "5e950497",
   "metadata": {},
   "source": [
    "### A Few Examples of Evaluating Arithmetic Expressions in Python:"
   ]
  },
  {
   "cell_type": "code",
   "execution_count": 5,
   "id": "f0aefbfd",
   "metadata": {},
   "outputs": [
    {
     "data": {
      "text/plain": [
       "17"
      ]
     },
     "execution_count": 5,
     "metadata": {},
     "output_type": "execute_result"
    }
   ],
   "source": [
    "#This is an arithmetic expression that mutiplies then adds integers\n",
    "(3*4)+5"
   ]
  },
  {
   "cell_type": "code",
   "execution_count": 3,
   "id": "c3a7d0f6",
   "metadata": {},
   "outputs": [
    {
     "data": {
      "text/plain": [
       "3"
      ]
     },
     "execution_count": 3,
     "metadata": {},
     "output_type": "execute_result"
    }
   ],
   "source": [
    "#This will convert 200 minutes to the nearest whole hour by dividing by 60.\n",
    "200//60"
   ]
  },
  {
   "cell_type": "markdown",
   "id": "d42fb6e7",
   "metadata": {},
   "source": [
    "## Author\n",
    "Daren Purnell"
   ]
  }
 ],
 "metadata": {
  "kernelspec": {
   "display_name": "Python 3 (ipykernel)",
   "language": "python",
   "name": "python3"
  },
  "language_info": {
   "codemirror_mode": {
    "name": "ipython",
    "version": 3
   },
   "file_extension": ".py",
   "mimetype": "text/x-python",
   "name": "python",
   "nbconvert_exporter": "python",
   "pygments_lexer": "ipython3",
   "version": "3.10.9"
  }
 },
 "nbformat": 4,
 "nbformat_minor": 5
}
